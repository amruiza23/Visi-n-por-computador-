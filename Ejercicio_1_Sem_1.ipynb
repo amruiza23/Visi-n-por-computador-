{
  "nbformat": 4,
  "nbformat_minor": 0,
  "metadata": {
    "colab": {
      "provenance": []
    },
    "kernelspec": {
      "name": "python3",
      "display_name": "Python 3"
    },
    "language_info": {
      "name": "python"
    }
  },
  "cells": [
    {
      "cell_type": "code",
      "execution_count": null,
      "metadata": {
        "id": "XZ0VCAxhoP2y"
      },
      "outputs": [],
      "source": [
        "import numpy as np\n",
        "import cv2\n",
        "import matplotlib.pyplot as plt"
      ]
    },
    {
      "cell_type": "code",
      "source": [
        "im = np.zeros((100,100), np.uint8)"
      ],
      "metadata": {
        "id": "9bcUPYkPurIo"
      },
      "execution_count": null,
      "outputs": []
    },
    {
      "cell_type": "code",
      "source": [
        "for i in range(100): im [i,i] = 255"
      ],
      "metadata": {
        "id": "-hcDN8Dove7r"
      },
      "execution_count": null,
      "outputs": []
    },
    {
      "cell_type": "code",
      "source": [
        "im"
      ],
      "metadata": {
        "colab": {
          "base_uri": "https://localhost:8080/",
          "height": 140
        },
        "id": "3WR8H5VpvubU",
        "outputId": "2b1ca060-a99d-4f21-e6b9-34a0e4c10175"
      },
      "execution_count": null,
      "outputs": [
        {
          "output_type": "execute_result",
          "data": {
            "text/plain": [
              "array([[255,   0,   0, ...,   0,   0,   0],\n",
              "       [  0, 255,   0, ...,   0,   0,   0],\n",
              "       [  0,   0, 255, ...,   0,   0,   0],\n",
              "       ...,\n",
              "       [  0,   0,   0, ..., 255,   0,   0],\n",
              "       [  0,   0,   0, ...,   0, 255,   0],\n",
              "       [  0,   0,   0, ...,   0,   0, 255]], dtype=uint8)"
            ],
            "text/html": [
              "<style>\n",
              "      .ndarray_repr .ndarray_raw_data {\n",
              "        display: none;\n",
              "      }\n",
              "      .ndarray_repr.show_array .ndarray_raw_data {\n",
              "        display: block;\n",
              "      }\n",
              "      .ndarray_repr.show_array .ndarray_image_preview {\n",
              "        display: none;\n",
              "      }\n",
              "      </style>\n",
              "      <div id=\"id-db861126-1bab-4511-a3d7-73616d19d024\" class=\"ndarray_repr\"><pre>ndarray (100, 100) <button style=\"padding: 0 2px;\">show data</button></pre><img src=\"data:image/png;base64,iVBORw0KGgoAAAANSUhEUgAAAGQAAABkCAAAAABVicqIAAAAPUlEQVR4nO3NAQkAAAwDoPUvvbU4HLSAaS5YLBaLxWKxWCwWi8VisVgsFovFYrFYLBaLxWKxWCwWi8XyfhmN72OdtFGcQAAAAABJRU5ErkJggg==\" class=\"ndarray_image_preview\" /><pre class=\"ndarray_raw_data\">array([[255,   0,   0, ...,   0,   0,   0],\n",
              "       [  0, 255,   0, ...,   0,   0,   0],\n",
              "       [  0,   0, 255, ...,   0,   0,   0],\n",
              "       ...,\n",
              "       [  0,   0,   0, ..., 255,   0,   0],\n",
              "       [  0,   0,   0, ...,   0, 255,   0],\n",
              "       [  0,   0,   0, ...,   0,   0, 255]], dtype=uint8)</pre></div><script>\n",
              "      (() => {\n",
              "      const titles = ['show data', 'hide data'];\n",
              "      let index = 0\n",
              "      document.querySelector('#id-db861126-1bab-4511-a3d7-73616d19d024 button').onclick = (e) => {\n",
              "        document.querySelector('#id-db861126-1bab-4511-a3d7-73616d19d024').classList.toggle('show_array');\n",
              "        index = (++index) % 2;\n",
              "        document.querySelector('#id-db861126-1bab-4511-a3d7-73616d19d024 button').textContent = titles[index];\n",
              "        e.preventDefault();\n",
              "        e.stopPropagation();\n",
              "      }\n",
              "      })();\n",
              "    </script>"
            ]
          },
          "metadata": {},
          "execution_count": 18
        }
      ]
    },
    {
      "cell_type": "code",
      "source": [
        "# Crear una imagen negra\n",
        "im = np.zeros((100, 100, 3), np.uint8)\n",
        "\n",
        "# Dibujar el cuadrado rojo\n",
        "cv2.rectangle(im, (10, 10), (90, 90), (0, 0, 255), -1)\n",
        "\n",
        "# Dibujar el cuadrado verde\n",
        "cv2.rectangle(im, (20, 20), (80, 80), (0, 255, 0), -1)\n",
        "\n",
        "# Dibujar el cuadrado azul\n",
        "cv2.rectangle(im, (30, 30), (70, 70), (255, 0, 0), -1)\n",
        "\n",
        "# Dibujar el cuadrado negro\n",
        "cv2.rectangle(im, (40, 40), (60, 60), (0, 0, 0), -1)\n",
        "\n",
        "# Mostrar la imagen\n",
        "im"
      ],
      "metadata": {
        "colab": {
          "base_uri": "https://localhost:8080/",
          "height": 140
        },
        "id": "M-p_TCXgyYFu",
        "outputId": "0377d5a5-d943-422d-d330-8fac3b24f767"
      },
      "execution_count": null,
      "outputs": [
        {
          "output_type": "execute_result",
          "data": {
            "text/plain": [
              "array([[[0, 0, 0],\n",
              "        [0, 0, 0],\n",
              "        [0, 0, 0],\n",
              "        ...,\n",
              "        [0, 0, 0],\n",
              "        [0, 0, 0],\n",
              "        [0, 0, 0]],\n",
              "\n",
              "       [[0, 0, 0],\n",
              "        [0, 0, 0],\n",
              "        [0, 0, 0],\n",
              "        ...,\n",
              "        [0, 0, 0],\n",
              "        [0, 0, 0],\n",
              "        [0, 0, 0]],\n",
              "\n",
              "       [[0, 0, 0],\n",
              "        [0, 0, 0],\n",
              "        [0, 0, 0],\n",
              "        ...,\n",
              "        [0, 0, 0],\n",
              "        [0, 0, 0],\n",
              "        [0, 0, 0]],\n",
              "\n",
              "       ...,\n",
              "\n",
              "       [[0, 0, 0],\n",
              "        [0, 0, 0],\n",
              "        [0, 0, 0],\n",
              "        ...,\n",
              "        [0, 0, 0],\n",
              "        [0, 0, 0],\n",
              "        [0, 0, 0]],\n",
              "\n",
              "       [[0, 0, 0],\n",
              "        [0, 0, 0],\n",
              "        [0, 0, 0],\n",
              "        ...,\n",
              "        [0, 0, 0],\n",
              "        [0, 0, 0],\n",
              "        [0, 0, 0]],\n",
              "\n",
              "       [[0, 0, 0],\n",
              "        [0, 0, 0],\n",
              "        [0, 0, 0],\n",
              "        ...,\n",
              "        [0, 0, 0],\n",
              "        [0, 0, 0],\n",
              "        [0, 0, 0]]], dtype=uint8)"
            ],
            "text/html": [
              "<style>\n",
              "      .ndarray_repr .ndarray_raw_data {\n",
              "        display: none;\n",
              "      }\n",
              "      .ndarray_repr.show_array .ndarray_raw_data {\n",
              "        display: block;\n",
              "      }\n",
              "      .ndarray_repr.show_array .ndarray_image_preview {\n",
              "        display: none;\n",
              "      }\n",
              "      </style>\n",
              "      <div id=\"id-3ec594fd-d733-47ec-9cea-3957f3f2947e\" class=\"ndarray_repr\"><pre>ndarray (100, 100, 3) <button style=\"padding: 0 2px;\">show data</button></pre><img src=\"data:image/png;base64,iVBORw0KGgoAAAANSUhEUgAAAGQAAABkCAIAAAD/gAIDAAABBklEQVR4nO3cSQqDUBBAQQ25/5XNAUKUp3H4ULVWkEcvWhymCQAAGMe8dcByxVU8y88mryuvYnRiBWIFYgViBWIFYgViBWIF70NnL5s3AI8077wtMVmBWIFYgViBWIFYgViBWIFYwbENftWN6/3eFX2DyQrECsQKxArECsQKxArECsQKTtzg1x1c7295ucdkBWIFYgViBWIFYgViBWIFYgViBWIFYgViBWIFYgViBWIFYgViBWIFtz2wGPFzYpMViBWIFYgViBWIFYgViBWIFZy4wZ/05v6NTFYgViBWIFYgViBWIFYgViBW4Neb3/x68x/ECsQKxArECsQKxArECsQCAICRfADe+Qmqb+4oegAAAABJRU5ErkJggg==\" class=\"ndarray_image_preview\" /><pre class=\"ndarray_raw_data\">array([[[0, 0, 0],\n",
              "        [0, 0, 0],\n",
              "        [0, 0, 0],\n",
              "        ...,\n",
              "        [0, 0, 0],\n",
              "        [0, 0, 0],\n",
              "        [0, 0, 0]],\n",
              "\n",
              "       [[0, 0, 0],\n",
              "        [0, 0, 0],\n",
              "        [0, 0, 0],\n",
              "        ...,\n",
              "        [0, 0, 0],\n",
              "        [0, 0, 0],\n",
              "        [0, 0, 0]],\n",
              "\n",
              "       [[0, 0, 0],\n",
              "        [0, 0, 0],\n",
              "        [0, 0, 0],\n",
              "        ...,\n",
              "        [0, 0, 0],\n",
              "        [0, 0, 0],\n",
              "        [0, 0, 0]],\n",
              "\n",
              "       ...,\n",
              "\n",
              "       [[0, 0, 0],\n",
              "        [0, 0, 0],\n",
              "        [0, 0, 0],\n",
              "        ...,\n",
              "        [0, 0, 0],\n",
              "        [0, 0, 0],\n",
              "        [0, 0, 0]],\n",
              "\n",
              "       [[0, 0, 0],\n",
              "        [0, 0, 0],\n",
              "        [0, 0, 0],\n",
              "        ...,\n",
              "        [0, 0, 0],\n",
              "        [0, 0, 0],\n",
              "        [0, 0, 0]],\n",
              "\n",
              "       [[0, 0, 0],\n",
              "        [0, 0, 0],\n",
              "        [0, 0, 0],\n",
              "        ...,\n",
              "        [0, 0, 0],\n",
              "        [0, 0, 0],\n",
              "        [0, 0, 0]]], dtype=uint8)</pre></div><script>\n",
              "      (() => {\n",
              "      const titles = ['show data', 'hide data'];\n",
              "      let index = 0\n",
              "      document.querySelector('#id-3ec594fd-d733-47ec-9cea-3957f3f2947e button').onclick = (e) => {\n",
              "        document.querySelector('#id-3ec594fd-d733-47ec-9cea-3957f3f2947e').classList.toggle('show_array');\n",
              "        index = (++index) % 2;\n",
              "        document.querySelector('#id-3ec594fd-d733-47ec-9cea-3957f3f2947e button').textContent = titles[index];\n",
              "        e.preventDefault();\n",
              "        e.stopPropagation();\n",
              "      }\n",
              "      })();\n",
              "    </script>"
            ]
          },
          "metadata": {},
          "execution_count": 19
        }
      ]
    }
  ]
}