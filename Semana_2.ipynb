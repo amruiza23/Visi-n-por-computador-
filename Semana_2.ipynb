{
  "nbformat": 4,
  "nbformat_minor": 0,
  "metadata": {
    "colab": {
      "provenance": []
    },
    "kernelspec": {
      "name": "python3",
      "display_name": "Python 3"
    },
    "language_info": {
      "name": "python"
    }
  },
  "cells": [
    {
      "cell_type": "code",
      "source": [
        "import numpy as np\n",
        "import matplotlib.pyplot as plt\n",
        "from matplotlib.patches import Polygon"
      ],
      "metadata": {
        "id": "PcPZlEXbUMI1"
      },
      "execution_count": null,
      "outputs": []
    },
    {
      "cell_type": "code",
      "source": [
        "# Crear una figura\n",
        "fig, ax = plt.subplots(figsize=(6, 6))\n",
        "ax.set_facecolor('black')\n",
        "\n",
        "# Coordenadas del primer triángulo (Triángulo inicial)\n",
        "triangle1 = np.array([[0.2, 0.8], [0.1, 0.6], [0.3, 0.6]])\n",
        "\n",
        "# Coordenadas del segundo triángulo (Triángulo final), ajustado para que la punta esté a la derecha\n",
        "triangle2 = np.array([[0.6, 0.5], [0.4, 0.3], [0.4, 0.7]])\n",
        "\n",
        "# Crear y agregar los triángulos a la gráfica\n",
        "tri1 = Polygon(triangle1, closed=True, facecolor='lime', edgecolor='magenta')\n",
        "tri2 = Polygon(triangle2, closed=True, facecolor='orange', edgecolor='magenta')\n",
        "\n",
        "ax.add_patch(tri1)\n",
        "ax.add_patch(tri2)\n",
        "\n",
        "# Marcar los vértices de los triángulos\n",
        "ax.plot(triangle1[:, 0], triangle1[:, 1], 'm.', markersize=10)\n",
        "ax.plot(triangle2[:, 0], triangle2[:, 1], 'm.', markersize=10)\n",
        "\n",
        "# Limitar los ejes y desactivar los ejes visibles\n",
        "ax.set_xlim(0, 1)\n",
        "ax.set_ylim(0, 1)\n",
        "ax.axis('off')\n",
        "\n",
        "# Mostrar la figura\n",
        "plt.show()\n"
      ],
      "metadata": {
        "colab": {
          "base_uri": "https://localhost:8080/",
          "height": 499
        },
        "id": "U92vNsGGUBf3",
        "outputId": "3c41eefc-1dc3-4852-ba44-bb64e104801e"
      },
      "execution_count": null,
      "outputs": [
        {
          "output_type": "display_data",
          "data": {
            "text/plain": [
              "<Figure size 600x600 with 1 Axes>"
            ],
            "image/png": "[encoded data removed]"
          },
          "metadata": {}
        }
      ]
    }
  ]
}